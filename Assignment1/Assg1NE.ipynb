{
 "cells": [
  {
   "cell_type": "code",
   "execution_count": null,
   "metadata": {},
   "outputs": [],
   "source": [
    "# PART A\n",
    "#Design a user interactive Calculator .( sum , subtraction , multiplication , division , Distance , speed , Intrest)\n"
   ]
  },
  {
   "cell_type": "code",
   "execution_count": 3,
   "metadata": {},
   "outputs": [
    {
     "name": "stdout",
     "output_type": "stream",
     "text": [
      "select the type of operation:\n",
      "1.Sum \n",
      "2.Subraction\n",
      "3.Multiplication\n",
      "4.Division\n",
      "5.Distance\n",
      "6.Speed\n",
      "7.Intrest\n",
      "\n",
      "Select the operation 1,2,3,4,5,6,73\n",
      "Enter first number12\n",
      "Enter Second number12\n",
      "mul = 144\n"
     ]
    }
   ],
   "source": [
    "def sum(x,y):\n",
    "    return x+y\n",
    "\n",
    "def sub(x,y):\n",
    "    return x-y\n",
    "\n",
    "def mul(x,y):\n",
    "    return x*y\n",
    "\n",
    "def div(x,y):\n",
    "    return x/y\n",
    "\n",
    "def dist(x,y):\n",
    "    return(x*y)\n",
    "\n",
    "def speed(x,y):\n",
    "    return(x/y)\n",
    "\n",
    "def intrest(x,y,z):\n",
    "    return (x*y*z)/100\n",
    "\n",
    "\n",
    "print(\"select the type of operation:\\n\" \\\n",
    "       \"1.Sum \\n\" \\\n",
    "       \"2.Subraction\\n\" \\\n",
    "       \"3.Multiplication\\n\" \\\n",
    "       \"4.Division\\n\" \\\n",
    "       \"5.Distance\\n\" \\\n",
    "       \"6.Speed\\n\" \\\n",
    "       \"7.Intrest\\n\")\n",
    "\n",
    "\n",
    "choice =int(input(\"Select the operation 1,2,3,4,5,6,7\"))\n",
    "\n",
    "\n",
    "if choice==1:\n",
    "    x=int(input(\"Enter first number\"))\n",
    "    y=int(input(\"Enter Second number\"))\n",
    "    print(\"sum =\", sum(x,y))\n",
    "elif choice==2:\n",
    "    x=int(input(\"Enter first number\"))\n",
    "    y= int(input(\"Enter second number\"))\n",
    "    print(\"sub =\", sub(x,y))\n",
    "elif choice==3:\n",
    "    x=int(input(\"Enter first number\"))\n",
    "    y=int(input(\"Enter Second number\"))\n",
    "    print(\"mul =\", mul(x,y))\n",
    "elif choice==4:\n",
    "    x=int(input(\"Enter first number\"))\n",
    "    y= int(input(\"Enter Second number\"))\n",
    "    print(\"div =\", div(x,y))\n",
    "elif choice==5:\n",
    "    x=int(input(\"Enter speed \"))\n",
    "    y= int(input(\"Enter time \"))\n",
    "    print(\"distance =\", dist(x,y))\n",
    "elif choice==6:\n",
    "    x=int(input(\"enter distance in metre\"))\n",
    "    y= int(input(\"enter time in sec\"))\n",
    "    print(\"speed =\", speed(x,y))\n",
    "elif choice==7:\n",
    "    x=int(input(\"Enter principal\"))\n",
    "    y= int(input(\"Enter rate of interest\"))\n",
    "    z=int(input(\"Term of loan in years\"))\n",
    "    print (\"intrest =\", intrest(x,y,z))\n",
    "    \n",
    "else:\n",
    "    print(\"invalid\")\n",
    "    \n"
   ]
  },
  {
   "cell_type": "code",
   "execution_count": null,
   "metadata": {},
   "outputs": [],
   "source": []
  },
  {
   "cell_type": "code",
   "execution_count": null,
   "metadata": {},
   "outputs": [],
   "source": [
    "# PART B\n",
    "#Develop a Python program to print all Prime numbers in a given Interval (Interval values should be user defined)\n"
   ]
  },
  {
   "cell_type": "code",
   "execution_count": 2,
   "metadata": {},
   "outputs": [
    {
     "name": "stdout",
     "output_type": "stream",
     "text": [
      "Enter lower value :1\n",
      "Enter higher value :10\n",
      "2\n",
      "3\n",
      "5\n",
      "7\n"
     ]
    }
   ],
   "source": [
    "x = int(input(\"Enter lower value :\"))\n",
    "y = int(input(\"Enter higher value :\"))\n",
    "for n in range(x,y+1):\n",
    "    if n>1:\n",
    "        for i in range(2,n):\n",
    "            if (n%i)==0:\n",
    "                break\n",
    "        else:\n",
    "            print(n)\n",
    "    \n",
    "    \n",
    "    \n",
    "   "
   ]
  },
  {
   "cell_type": "code",
   "execution_count": null,
   "metadata": {},
   "outputs": [],
   "source": []
  }
 ],
 "metadata": {
  "kernelspec": {
   "display_name": "Python 3",
   "language": "python",
   "name": "python3"
  },
  "language_info": {
   "codemirror_mode": {
    "name": "ipython",
    "version": 3
   },
   "file_extension": ".py",
   "mimetype": "text/x-python",
   "name": "python",
   "nbconvert_exporter": "python",
   "pygments_lexer": "ipython3",
   "version": "3.7.6"
  }
 },
 "nbformat": 4,
 "nbformat_minor": 4
}
